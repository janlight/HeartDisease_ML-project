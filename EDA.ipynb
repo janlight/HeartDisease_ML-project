{
  "nbformat": 4,
  "nbformat_minor": 0,
  "metadata": {
    "colab": {
      "name": "Untitled2_(12coded1)_(1).ipynb",
      "provenance": []
    },
    "kernelspec": {
      "name": "python3",
      "display_name": "Python 3"
    },
    "language_info": {
      "name": "python"
    }
  },
  "cells": [
    {
      "cell_type": "code",
      "metadata": {
        "colab": {
          "base_uri": "https://localhost:8080/"
        },
        "id": "It1iJCsj3P27",
        "outputId": "330b8c19-93ba-4296-b9d3-c6a9a5167303"
      },
      "source": [
        "from google.colab import drive\n",
        "drive.mount('/content/drive')"
      ],
      "execution_count": null,
      "outputs": [
        {
          "output_type": "stream",
          "name": "stdout",
          "text": [
            "Mounted at /content/drive\n"
          ]
        }
      ]
    },
    {
      "cell_type": "code",
      "metadata": {
        "id": "ODal0MRnfvbF",
        "colab": {
          "base_uri": "https://localhost:8080/",
          "height": 319
        },
        "outputId": "1566a21d-f233-40c2-cac7-8a0efe9c4323"
      },
      "source": [
        "import pandas as pd \n",
        "\n",
        "df_p = pd.read_csv('/content/drive/MyDrive/2015.csv')\n",
        "df_p.head()"
      ],
      "execution_count": null,
      "outputs": [
        {
          "output_type": "execute_result",
          "data": {
            "text/html": [
              "<div>\n",
              "<style scoped>\n",
              "    .dataframe tbody tr th:only-of-type {\n",
              "        vertical-align: middle;\n",
              "    }\n",
              "\n",
              "    .dataframe tbody tr th {\n",
              "        vertical-align: top;\n",
              "    }\n",
              "\n",
              "    .dataframe thead th {\n",
              "        text-align: right;\n",
              "    }\n",
              "</style>\n",
              "<table border=\"1\" class=\"dataframe\">\n",
              "  <thead>\n",
              "    <tr style=\"text-align: right;\">\n",
              "      <th></th>\n",
              "      <th>_STATE</th>\n",
              "      <th>FMONTH</th>\n",
              "      <th>IDATE</th>\n",
              "      <th>IMONTH</th>\n",
              "      <th>IDAY</th>\n",
              "      <th>IYEAR</th>\n",
              "      <th>DISPCODE</th>\n",
              "      <th>SEQNO</th>\n",
              "      <th>_PSU</th>\n",
              "      <th>CTELENUM</th>\n",
              "      <th>PVTRESD1</th>\n",
              "      <th>COLGHOUS</th>\n",
              "      <th>STATERES</th>\n",
              "      <th>CELLFON3</th>\n",
              "      <th>LADULT</th>\n",
              "      <th>NUMADULT</th>\n",
              "      <th>NUMMEN</th>\n",
              "      <th>NUMWOMEN</th>\n",
              "      <th>CTELNUM1</th>\n",
              "      <th>CELLFON2</th>\n",
              "      <th>CADULT</th>\n",
              "      <th>PVTRESD2</th>\n",
              "      <th>CCLGHOUS</th>\n",
              "      <th>CSTATE</th>\n",
              "      <th>LANDLINE</th>\n",
              "      <th>HHADULT</th>\n",
              "      <th>GENHLTH</th>\n",
              "      <th>PHYSHLTH</th>\n",
              "      <th>MENTHLTH</th>\n",
              "      <th>POORHLTH</th>\n",
              "      <th>HLTHPLN1</th>\n",
              "      <th>PERSDOC2</th>\n",
              "      <th>MEDCOST</th>\n",
              "      <th>CHECKUP1</th>\n",
              "      <th>BPHIGH4</th>\n",
              "      <th>BPMEDS</th>\n",
              "      <th>BLOODCHO</th>\n",
              "      <th>CHOLCHK</th>\n",
              "      <th>TOLDHI2</th>\n",
              "      <th>CVDINFR4</th>\n",
              "      <th>...</th>\n",
              "      <th>_VEG23</th>\n",
              "      <th>_FRUITEX</th>\n",
              "      <th>_VEGETEX</th>\n",
              "      <th>_TOTINDA</th>\n",
              "      <th>METVL11_</th>\n",
              "      <th>METVL21_</th>\n",
              "      <th>MAXVO2_</th>\n",
              "      <th>FC60_</th>\n",
              "      <th>ACTIN11_</th>\n",
              "      <th>ACTIN21_</th>\n",
              "      <th>PADUR1_</th>\n",
              "      <th>PADUR2_</th>\n",
              "      <th>PAFREQ1_</th>\n",
              "      <th>PAFREQ2_</th>\n",
              "      <th>_MINAC11</th>\n",
              "      <th>_MINAC21</th>\n",
              "      <th>STRFREQ_</th>\n",
              "      <th>PAMISS1_</th>\n",
              "      <th>PAMIN11_</th>\n",
              "      <th>PAMIN21_</th>\n",
              "      <th>PA1MIN_</th>\n",
              "      <th>PAVIG11_</th>\n",
              "      <th>PAVIG21_</th>\n",
              "      <th>PA1VIGM_</th>\n",
              "      <th>_PACAT1</th>\n",
              "      <th>_PAINDX1</th>\n",
              "      <th>_PA150R2</th>\n",
              "      <th>_PA300R2</th>\n",
              "      <th>_PA30021</th>\n",
              "      <th>_PASTRNG</th>\n",
              "      <th>_PAREC1</th>\n",
              "      <th>_PASTAE1</th>\n",
              "      <th>_LMTACT1</th>\n",
              "      <th>_LMTWRK1</th>\n",
              "      <th>_LMTSCL1</th>\n",
              "      <th>_RFSEAT2</th>\n",
              "      <th>_RFSEAT3</th>\n",
              "      <th>_FLSHOT6</th>\n",
              "      <th>_PNEUMO2</th>\n",
              "      <th>_AIDTST3</th>\n",
              "    </tr>\n",
              "  </thead>\n",
              "  <tbody>\n",
              "    <tr>\n",
              "      <th>0</th>\n",
              "      <td>1.0</td>\n",
              "      <td>1.0</td>\n",
              "      <td>b'01292015'</td>\n",
              "      <td>b'01'</td>\n",
              "      <td>b'29'</td>\n",
              "      <td>b'2015'</td>\n",
              "      <td>1200.0</td>\n",
              "      <td>2.015000e+09</td>\n",
              "      <td>2.015000e+09</td>\n",
              "      <td>1.0</td>\n",
              "      <td>1.0</td>\n",
              "      <td>NaN</td>\n",
              "      <td>1.0</td>\n",
              "      <td>2.0</td>\n",
              "      <td>NaN</td>\n",
              "      <td>3.0</td>\n",
              "      <td>1.000000e+00</td>\n",
              "      <td>2.0</td>\n",
              "      <td>NaN</td>\n",
              "      <td>NaN</td>\n",
              "      <td>NaN</td>\n",
              "      <td>NaN</td>\n",
              "      <td>NaN</td>\n",
              "      <td>NaN</td>\n",
              "      <td>NaN</td>\n",
              "      <td>NaN</td>\n",
              "      <td>5.0</td>\n",
              "      <td>15.0</td>\n",
              "      <td>18.0</td>\n",
              "      <td>10.0</td>\n",
              "      <td>1.0</td>\n",
              "      <td>1.0</td>\n",
              "      <td>2.0</td>\n",
              "      <td>1.0</td>\n",
              "      <td>1.0</td>\n",
              "      <td>1.0</td>\n",
              "      <td>1.0</td>\n",
              "      <td>1.0</td>\n",
              "      <td>1.0</td>\n",
              "      <td>2.0</td>\n",
              "      <td>...</td>\n",
              "      <td>1.0</td>\n",
              "      <td>5.397605e-79</td>\n",
              "      <td>5.397605e-79</td>\n",
              "      <td>2.0</td>\n",
              "      <td>NaN</td>\n",
              "      <td>NaN</td>\n",
              "      <td>2469.0</td>\n",
              "      <td>423.0</td>\n",
              "      <td>NaN</td>\n",
              "      <td>NaN</td>\n",
              "      <td>NaN</td>\n",
              "      <td>NaN</td>\n",
              "      <td>NaN</td>\n",
              "      <td>NaN</td>\n",
              "      <td>NaN</td>\n",
              "      <td>NaN</td>\n",
              "      <td>5.397605e-79</td>\n",
              "      <td>5.397605e-79</td>\n",
              "      <td>NaN</td>\n",
              "      <td>NaN</td>\n",
              "      <td>NaN</td>\n",
              "      <td>NaN</td>\n",
              "      <td>NaN</td>\n",
              "      <td>NaN</td>\n",
              "      <td>4.0</td>\n",
              "      <td>2.0</td>\n",
              "      <td>3.0</td>\n",
              "      <td>3.0</td>\n",
              "      <td>2.0</td>\n",
              "      <td>2.0</td>\n",
              "      <td>4.0</td>\n",
              "      <td>2.0</td>\n",
              "      <td>1.0</td>\n",
              "      <td>1.0</td>\n",
              "      <td>1.0</td>\n",
              "      <td>1.0</td>\n",
              "      <td>1.0</td>\n",
              "      <td>NaN</td>\n",
              "      <td>NaN</td>\n",
              "      <td>1.0</td>\n",
              "    </tr>\n",
              "    <tr>\n",
              "      <th>1</th>\n",
              "      <td>1.0</td>\n",
              "      <td>1.0</td>\n",
              "      <td>b'01202015'</td>\n",
              "      <td>b'01'</td>\n",
              "      <td>b'20'</td>\n",
              "      <td>b'2015'</td>\n",
              "      <td>1100.0</td>\n",
              "      <td>2.015000e+09</td>\n",
              "      <td>2.015000e+09</td>\n",
              "      <td>1.0</td>\n",
              "      <td>1.0</td>\n",
              "      <td>NaN</td>\n",
              "      <td>1.0</td>\n",
              "      <td>2.0</td>\n",
              "      <td>NaN</td>\n",
              "      <td>1.0</td>\n",
              "      <td>5.397605e-79</td>\n",
              "      <td>1.0</td>\n",
              "      <td>NaN</td>\n",
              "      <td>NaN</td>\n",
              "      <td>NaN</td>\n",
              "      <td>NaN</td>\n",
              "      <td>NaN</td>\n",
              "      <td>NaN</td>\n",
              "      <td>NaN</td>\n",
              "      <td>NaN</td>\n",
              "      <td>3.0</td>\n",
              "      <td>88.0</td>\n",
              "      <td>88.0</td>\n",
              "      <td>NaN</td>\n",
              "      <td>2.0</td>\n",
              "      <td>1.0</td>\n",
              "      <td>1.0</td>\n",
              "      <td>4.0</td>\n",
              "      <td>3.0</td>\n",
              "      <td>NaN</td>\n",
              "      <td>1.0</td>\n",
              "      <td>4.0</td>\n",
              "      <td>2.0</td>\n",
              "      <td>2.0</td>\n",
              "      <td>...</td>\n",
              "      <td>1.0</td>\n",
              "      <td>5.397605e-79</td>\n",
              "      <td>5.397605e-79</td>\n",
              "      <td>1.0</td>\n",
              "      <td>35.0</td>\n",
              "      <td>5.397605e-79</td>\n",
              "      <td>2876.0</td>\n",
              "      <td>493.0</td>\n",
              "      <td>1.0</td>\n",
              "      <td>5.397605e-79</td>\n",
              "      <td>60.0</td>\n",
              "      <td>60.0</td>\n",
              "      <td>2800.0</td>\n",
              "      <td>2800.0</td>\n",
              "      <td>168.0</td>\n",
              "      <td>5.397605e-79</td>\n",
              "      <td>5.397605e-79</td>\n",
              "      <td>5.397605e-79</td>\n",
              "      <td>168.0</td>\n",
              "      <td>5.397605e-79</td>\n",
              "      <td>168.0</td>\n",
              "      <td>5.397605e-79</td>\n",
              "      <td>5.397605e-79</td>\n",
              "      <td>5.397605e-79</td>\n",
              "      <td>2.0</td>\n",
              "      <td>1.0</td>\n",
              "      <td>1.0</td>\n",
              "      <td>2.0</td>\n",
              "      <td>2.0</td>\n",
              "      <td>2.0</td>\n",
              "      <td>2.0</td>\n",
              "      <td>2.0</td>\n",
              "      <td>3.0</td>\n",
              "      <td>3.0</td>\n",
              "      <td>4.0</td>\n",
              "      <td>2.0</td>\n",
              "      <td>2.0</td>\n",
              "      <td>NaN</td>\n",
              "      <td>NaN</td>\n",
              "      <td>2.0</td>\n",
              "    </tr>\n",
              "    <tr>\n",
              "      <th>2</th>\n",
              "      <td>1.0</td>\n",
              "      <td>1.0</td>\n",
              "      <td>b'02012015'</td>\n",
              "      <td>b'02'</td>\n",
              "      <td>b'01'</td>\n",
              "      <td>b'2015'</td>\n",
              "      <td>1200.0</td>\n",
              "      <td>2.015000e+09</td>\n",
              "      <td>2.015000e+09</td>\n",
              "      <td>1.0</td>\n",
              "      <td>1.0</td>\n",
              "      <td>NaN</td>\n",
              "      <td>1.0</td>\n",
              "      <td>2.0</td>\n",
              "      <td>NaN</td>\n",
              "      <td>2.0</td>\n",
              "      <td>1.000000e+00</td>\n",
              "      <td>1.0</td>\n",
              "      <td>NaN</td>\n",
              "      <td>NaN</td>\n",
              "      <td>NaN</td>\n",
              "      <td>NaN</td>\n",
              "      <td>NaN</td>\n",
              "      <td>NaN</td>\n",
              "      <td>NaN</td>\n",
              "      <td>NaN</td>\n",
              "      <td>4.0</td>\n",
              "      <td>15.0</td>\n",
              "      <td>88.0</td>\n",
              "      <td>88.0</td>\n",
              "      <td>1.0</td>\n",
              "      <td>2.0</td>\n",
              "      <td>2.0</td>\n",
              "      <td>1.0</td>\n",
              "      <td>3.0</td>\n",
              "      <td>NaN</td>\n",
              "      <td>1.0</td>\n",
              "      <td>1.0</td>\n",
              "      <td>1.0</td>\n",
              "      <td>7.0</td>\n",
              "      <td>...</td>\n",
              "      <td>1.0</td>\n",
              "      <td>1.000000e+00</td>\n",
              "      <td>1.000000e+00</td>\n",
              "      <td>9.0</td>\n",
              "      <td>NaN</td>\n",
              "      <td>NaN</td>\n",
              "      <td>2173.0</td>\n",
              "      <td>373.0</td>\n",
              "      <td>NaN</td>\n",
              "      <td>NaN</td>\n",
              "      <td>NaN</td>\n",
              "      <td>NaN</td>\n",
              "      <td>NaN</td>\n",
              "      <td>NaN</td>\n",
              "      <td>NaN</td>\n",
              "      <td>NaN</td>\n",
              "      <td>NaN</td>\n",
              "      <td>9.000000e+00</td>\n",
              "      <td>NaN</td>\n",
              "      <td>NaN</td>\n",
              "      <td>NaN</td>\n",
              "      <td>NaN</td>\n",
              "      <td>NaN</td>\n",
              "      <td>NaN</td>\n",
              "      <td>9.0</td>\n",
              "      <td>9.0</td>\n",
              "      <td>9.0</td>\n",
              "      <td>9.0</td>\n",
              "      <td>9.0</td>\n",
              "      <td>9.0</td>\n",
              "      <td>9.0</td>\n",
              "      <td>9.0</td>\n",
              "      <td>9.0</td>\n",
              "      <td>9.0</td>\n",
              "      <td>9.0</td>\n",
              "      <td>9.0</td>\n",
              "      <td>9.0</td>\n",
              "      <td>9.0</td>\n",
              "      <td>9.0</td>\n",
              "      <td>NaN</td>\n",
              "    </tr>\n",
              "    <tr>\n",
              "      <th>3</th>\n",
              "      <td>1.0</td>\n",
              "      <td>1.0</td>\n",
              "      <td>b'01142015'</td>\n",
              "      <td>b'01'</td>\n",
              "      <td>b'14'</td>\n",
              "      <td>b'2015'</td>\n",
              "      <td>1100.0</td>\n",
              "      <td>2.015000e+09</td>\n",
              "      <td>2.015000e+09</td>\n",
              "      <td>1.0</td>\n",
              "      <td>1.0</td>\n",
              "      <td>NaN</td>\n",
              "      <td>1.0</td>\n",
              "      <td>2.0</td>\n",
              "      <td>NaN</td>\n",
              "      <td>3.0</td>\n",
              "      <td>1.000000e+00</td>\n",
              "      <td>2.0</td>\n",
              "      <td>NaN</td>\n",
              "      <td>NaN</td>\n",
              "      <td>NaN</td>\n",
              "      <td>NaN</td>\n",
              "      <td>NaN</td>\n",
              "      <td>NaN</td>\n",
              "      <td>NaN</td>\n",
              "      <td>NaN</td>\n",
              "      <td>5.0</td>\n",
              "      <td>30.0</td>\n",
              "      <td>30.0</td>\n",
              "      <td>30.0</td>\n",
              "      <td>1.0</td>\n",
              "      <td>2.0</td>\n",
              "      <td>1.0</td>\n",
              "      <td>1.0</td>\n",
              "      <td>1.0</td>\n",
              "      <td>1.0</td>\n",
              "      <td>1.0</td>\n",
              "      <td>1.0</td>\n",
              "      <td>1.0</td>\n",
              "      <td>2.0</td>\n",
              "      <td>...</td>\n",
              "      <td>1.0</td>\n",
              "      <td>5.397605e-79</td>\n",
              "      <td>5.397605e-79</td>\n",
              "      <td>2.0</td>\n",
              "      <td>NaN</td>\n",
              "      <td>NaN</td>\n",
              "      <td>2469.0</td>\n",
              "      <td>423.0</td>\n",
              "      <td>NaN</td>\n",
              "      <td>NaN</td>\n",
              "      <td>NaN</td>\n",
              "      <td>NaN</td>\n",
              "      <td>NaN</td>\n",
              "      <td>NaN</td>\n",
              "      <td>NaN</td>\n",
              "      <td>NaN</td>\n",
              "      <td>5.397605e-79</td>\n",
              "      <td>5.397605e-79</td>\n",
              "      <td>NaN</td>\n",
              "      <td>NaN</td>\n",
              "      <td>NaN</td>\n",
              "      <td>NaN</td>\n",
              "      <td>NaN</td>\n",
              "      <td>NaN</td>\n",
              "      <td>4.0</td>\n",
              "      <td>2.0</td>\n",
              "      <td>3.0</td>\n",
              "      <td>3.0</td>\n",
              "      <td>2.0</td>\n",
              "      <td>2.0</td>\n",
              "      <td>4.0</td>\n",
              "      <td>2.0</td>\n",
              "      <td>1.0</td>\n",
              "      <td>1.0</td>\n",
              "      <td>1.0</td>\n",
              "      <td>1.0</td>\n",
              "      <td>1.0</td>\n",
              "      <td>NaN</td>\n",
              "      <td>NaN</td>\n",
              "      <td>9.0</td>\n",
              "    </tr>\n",
              "    <tr>\n",
              "      <th>4</th>\n",
              "      <td>1.0</td>\n",
              "      <td>1.0</td>\n",
              "      <td>b'01142015'</td>\n",
              "      <td>b'01'</td>\n",
              "      <td>b'14'</td>\n",
              "      <td>b'2015'</td>\n",
              "      <td>1100.0</td>\n",
              "      <td>2.015000e+09</td>\n",
              "      <td>2.015000e+09</td>\n",
              "      <td>1.0</td>\n",
              "      <td>1.0</td>\n",
              "      <td>NaN</td>\n",
              "      <td>1.0</td>\n",
              "      <td>2.0</td>\n",
              "      <td>NaN</td>\n",
              "      <td>2.0</td>\n",
              "      <td>1.000000e+00</td>\n",
              "      <td>1.0</td>\n",
              "      <td>NaN</td>\n",
              "      <td>NaN</td>\n",
              "      <td>NaN</td>\n",
              "      <td>NaN</td>\n",
              "      <td>NaN</td>\n",
              "      <td>NaN</td>\n",
              "      <td>NaN</td>\n",
              "      <td>NaN</td>\n",
              "      <td>5.0</td>\n",
              "      <td>20.0</td>\n",
              "      <td>88.0</td>\n",
              "      <td>30.0</td>\n",
              "      <td>1.0</td>\n",
              "      <td>1.0</td>\n",
              "      <td>2.0</td>\n",
              "      <td>1.0</td>\n",
              "      <td>3.0</td>\n",
              "      <td>NaN</td>\n",
              "      <td>1.0</td>\n",
              "      <td>1.0</td>\n",
              "      <td>2.0</td>\n",
              "      <td>2.0</td>\n",
              "      <td>...</td>\n",
              "      <td>1.0</td>\n",
              "      <td>1.000000e+00</td>\n",
              "      <td>5.397605e-79</td>\n",
              "      <td>2.0</td>\n",
              "      <td>NaN</td>\n",
              "      <td>NaN</td>\n",
              "      <td>2543.0</td>\n",
              "      <td>436.0</td>\n",
              "      <td>NaN</td>\n",
              "      <td>NaN</td>\n",
              "      <td>NaN</td>\n",
              "      <td>NaN</td>\n",
              "      <td>NaN</td>\n",
              "      <td>NaN</td>\n",
              "      <td>NaN</td>\n",
              "      <td>NaN</td>\n",
              "      <td>5.397605e-79</td>\n",
              "      <td>5.397605e-79</td>\n",
              "      <td>NaN</td>\n",
              "      <td>NaN</td>\n",
              "      <td>NaN</td>\n",
              "      <td>NaN</td>\n",
              "      <td>NaN</td>\n",
              "      <td>NaN</td>\n",
              "      <td>4.0</td>\n",
              "      <td>2.0</td>\n",
              "      <td>3.0</td>\n",
              "      <td>3.0</td>\n",
              "      <td>2.0</td>\n",
              "      <td>2.0</td>\n",
              "      <td>4.0</td>\n",
              "      <td>2.0</td>\n",
              "      <td>1.0</td>\n",
              "      <td>1.0</td>\n",
              "      <td>1.0</td>\n",
              "      <td>1.0</td>\n",
              "      <td>1.0</td>\n",
              "      <td>NaN</td>\n",
              "      <td>NaN</td>\n",
              "      <td>1.0</td>\n",
              "    </tr>\n",
              "  </tbody>\n",
              "</table>\n",
              "<p>5 rows × 330 columns</p>\n",
              "</div>"
            ],
            "text/plain": [
              "   _STATE  FMONTH        IDATE IMONTH  ... _RFSEAT3 _FLSHOT6  _PNEUMO2  _AIDTST3\n",
              "0     1.0     1.0  b'01292015'  b'01'  ...      1.0      NaN       NaN       1.0\n",
              "1     1.0     1.0  b'01202015'  b'01'  ...      2.0      NaN       NaN       2.0\n",
              "2     1.0     1.0  b'02012015'  b'02'  ...      9.0      9.0       9.0       NaN\n",
              "3     1.0     1.0  b'01142015'  b'01'  ...      1.0      NaN       NaN       9.0\n",
              "4     1.0     1.0  b'01142015'  b'01'  ...      1.0      NaN       NaN       1.0\n",
              "\n",
              "[5 rows x 330 columns]"
            ]
          },
          "metadata": {},
          "execution_count": 155
        }
      ]
    },
    {
      "cell_type": "code",
      "metadata": {
        "colab": {
          "base_uri": "https://localhost:8080/"
        },
        "id": "3q3aq9ZHwA5s",
        "outputId": "cc1378d2-adb2-4e3b-8104-d9bd1149c4c0"
      },
      "source": [
        "df_p['_MICHD'].value_counts()"
      ],
      "execution_count": null,
      "outputs": [
        {
          "output_type": "execute_result",
          "data": {
            "text/plain": [
              "2.0    398881\n",
              "1.0     38633\n",
              "Name: _MICHD, dtype: int64"
            ]
          },
          "metadata": {},
          "execution_count": 156
        }
      ]
    },
    {
      "cell_type": "code",
      "metadata": {
        "id": "dc4KpYiggC_p"
      },
      "source": [
        "df_selected = df_p[['_MICHD', '_RFHYPE5', 'TOLDHI2', '_CHOLCHK', '_BMI5', 'SMOKE100','CVDSTRK3', 'DIABETE3', \n",
        "                                         '_TOTINDA', \n",
        "                                         '_FRTLT1', '_VEGLT1', \n",
        "                                         '_RFDRHV5', \n",
        "                                         'HLTHPLN1', 'MEDCOST', \n",
        "                                         'GENHLTH', 'MENTHLTH', 'PHYSHLTH', 'DIFFWALK', \n",
        "                                         'SEX', '_AGEG5YR', 'EDUCA', 'INCOME2', \n",
        "                                         'CHECKUP1', \n",
        "                                         'CVDINFR4' ,'CVDCRHD4' ,'ADDEPEV2', \n",
        "                                         'FVGREEN', 'FVORANG', 'EXERANY2', '_LTASTH1']]"
      ],
      "execution_count": null,
      "outputs": []
    },
    {
      "cell_type": "code",
      "metadata": {
        "colab": {
          "base_uri": "https://localhost:8080/"
        },
        "id": "brRa83RAidHv",
        "outputId": "4ca76ca2-ad09-4d4e-fb1d-1f5112f8e64b"
      },
      "source": [
        "df_selected.shape"
      ],
      "execution_count": null,
      "outputs": [
        {
          "output_type": "execute_result",
          "data": {
            "text/plain": [
              "(441456, 30)"
            ]
          },
          "metadata": {},
          "execution_count": 158
        }
      ]
    },
    {
      "cell_type": "code",
      "metadata": {
        "colab": {
          "base_uri": "https://localhost:8080/",
          "height": 223
        },
        "id": "DQGmPqYXiq9e",
        "outputId": "c465c465-e1d1-4255-f7d1-fcf40bdffaa2"
      },
      "source": [
        "df_selected.head()"
      ],
      "execution_count": null,
      "outputs": [
        {
          "output_type": "execute_result",
          "data": {
            "text/html": [
              "<div>\n",
              "<style scoped>\n",
              "    .dataframe tbody tr th:only-of-type {\n",
              "        vertical-align: middle;\n",
              "    }\n",
              "\n",
              "    .dataframe tbody tr th {\n",
              "        vertical-align: top;\n",
              "    }\n",
              "\n",
              "    .dataframe thead th {\n",
              "        text-align: right;\n",
              "    }\n",
              "</style>\n",
              "<table border=\"1\" class=\"dataframe\">\n",
              "  <thead>\n",
              "    <tr style=\"text-align: right;\">\n",
              "      <th></th>\n",
              "      <th>_MICHD</th>\n",
              "      <th>_RFHYPE5</th>\n",
              "      <th>TOLDHI2</th>\n",
              "      <th>_CHOLCHK</th>\n",
              "      <th>_BMI5</th>\n",
              "      <th>SMOKE100</th>\n",
              "      <th>CVDSTRK3</th>\n",
              "      <th>DIABETE3</th>\n",
              "      <th>_TOTINDA</th>\n",
              "      <th>_FRTLT1</th>\n",
              "      <th>_VEGLT1</th>\n",
              "      <th>_RFDRHV5</th>\n",
              "      <th>HLTHPLN1</th>\n",
              "      <th>MEDCOST</th>\n",
              "      <th>GENHLTH</th>\n",
              "      <th>MENTHLTH</th>\n",
              "      <th>PHYSHLTH</th>\n",
              "      <th>DIFFWALK</th>\n",
              "      <th>SEX</th>\n",
              "      <th>_AGEG5YR</th>\n",
              "      <th>EDUCA</th>\n",
              "      <th>INCOME2</th>\n",
              "      <th>CHECKUP1</th>\n",
              "      <th>CVDINFR4</th>\n",
              "      <th>CVDCRHD4</th>\n",
              "      <th>ADDEPEV2</th>\n",
              "      <th>FVGREEN</th>\n",
              "      <th>FVORANG</th>\n",
              "      <th>EXERANY2</th>\n",
              "      <th>_LTASTH1</th>\n",
              "    </tr>\n",
              "  </thead>\n",
              "  <tbody>\n",
              "    <tr>\n",
              "      <th>0</th>\n",
              "      <td>2.0</td>\n",
              "      <td>2.0</td>\n",
              "      <td>1.0</td>\n",
              "      <td>1.0</td>\n",
              "      <td>4018.0</td>\n",
              "      <td>1.0</td>\n",
              "      <td>2.0</td>\n",
              "      <td>3.0</td>\n",
              "      <td>2.0</td>\n",
              "      <td>2.0</td>\n",
              "      <td>1.0</td>\n",
              "      <td>1.0</td>\n",
              "      <td>1.0</td>\n",
              "      <td>2.0</td>\n",
              "      <td>5.0</td>\n",
              "      <td>18.0</td>\n",
              "      <td>15.0</td>\n",
              "      <td>1.0</td>\n",
              "      <td>2.0</td>\n",
              "      <td>9.0</td>\n",
              "      <td>4.0</td>\n",
              "      <td>3.0</td>\n",
              "      <td>1.0</td>\n",
              "      <td>2.0</td>\n",
              "      <td>2.0</td>\n",
              "      <td>1.0</td>\n",
              "      <td>310.0</td>\n",
              "      <td>305.0</td>\n",
              "      <td>2.0</td>\n",
              "      <td>2.0</td>\n",
              "    </tr>\n",
              "    <tr>\n",
              "      <th>1</th>\n",
              "      <td>2.0</td>\n",
              "      <td>1.0</td>\n",
              "      <td>2.0</td>\n",
              "      <td>2.0</td>\n",
              "      <td>2509.0</td>\n",
              "      <td>1.0</td>\n",
              "      <td>2.0</td>\n",
              "      <td>3.0</td>\n",
              "      <td>1.0</td>\n",
              "      <td>2.0</td>\n",
              "      <td>2.0</td>\n",
              "      <td>1.0</td>\n",
              "      <td>2.0</td>\n",
              "      <td>1.0</td>\n",
              "      <td>3.0</td>\n",
              "      <td>88.0</td>\n",
              "      <td>88.0</td>\n",
              "      <td>2.0</td>\n",
              "      <td>2.0</td>\n",
              "      <td>7.0</td>\n",
              "      <td>6.0</td>\n",
              "      <td>1.0</td>\n",
              "      <td>4.0</td>\n",
              "      <td>2.0</td>\n",
              "      <td>2.0</td>\n",
              "      <td>2.0</td>\n",
              "      <td>202.0</td>\n",
              "      <td>202.0</td>\n",
              "      <td>1.0</td>\n",
              "      <td>1.0</td>\n",
              "    </tr>\n",
              "    <tr>\n",
              "      <th>2</th>\n",
              "      <td>NaN</td>\n",
              "      <td>1.0</td>\n",
              "      <td>1.0</td>\n",
              "      <td>1.0</td>\n",
              "      <td>2204.0</td>\n",
              "      <td>NaN</td>\n",
              "      <td>1.0</td>\n",
              "      <td>3.0</td>\n",
              "      <td>9.0</td>\n",
              "      <td>9.0</td>\n",
              "      <td>9.0</td>\n",
              "      <td>9.0</td>\n",
              "      <td>1.0</td>\n",
              "      <td>2.0</td>\n",
              "      <td>4.0</td>\n",
              "      <td>88.0</td>\n",
              "      <td>15.0</td>\n",
              "      <td>NaN</td>\n",
              "      <td>2.0</td>\n",
              "      <td>11.0</td>\n",
              "      <td>4.0</td>\n",
              "      <td>99.0</td>\n",
              "      <td>1.0</td>\n",
              "      <td>7.0</td>\n",
              "      <td>2.0</td>\n",
              "      <td>2.0</td>\n",
              "      <td>NaN</td>\n",
              "      <td>NaN</td>\n",
              "      <td>NaN</td>\n",
              "      <td>1.0</td>\n",
              "    </tr>\n",
              "    <tr>\n",
              "      <th>3</th>\n",
              "      <td>2.0</td>\n",
              "      <td>2.0</td>\n",
              "      <td>1.0</td>\n",
              "      <td>1.0</td>\n",
              "      <td>2819.0</td>\n",
              "      <td>2.0</td>\n",
              "      <td>2.0</td>\n",
              "      <td>3.0</td>\n",
              "      <td>2.0</td>\n",
              "      <td>1.0</td>\n",
              "      <td>2.0</td>\n",
              "      <td>1.0</td>\n",
              "      <td>1.0</td>\n",
              "      <td>1.0</td>\n",
              "      <td>5.0</td>\n",
              "      <td>30.0</td>\n",
              "      <td>30.0</td>\n",
              "      <td>1.0</td>\n",
              "      <td>2.0</td>\n",
              "      <td>9.0</td>\n",
              "      <td>4.0</td>\n",
              "      <td>8.0</td>\n",
              "      <td>1.0</td>\n",
              "      <td>2.0</td>\n",
              "      <td>2.0</td>\n",
              "      <td>1.0</td>\n",
              "      <td>301.0</td>\n",
              "      <td>301.0</td>\n",
              "      <td>2.0</td>\n",
              "      <td>1.0</td>\n",
              "    </tr>\n",
              "    <tr>\n",
              "      <th>4</th>\n",
              "      <td>2.0</td>\n",
              "      <td>1.0</td>\n",
              "      <td>2.0</td>\n",
              "      <td>1.0</td>\n",
              "      <td>2437.0</td>\n",
              "      <td>2.0</td>\n",
              "      <td>2.0</td>\n",
              "      <td>3.0</td>\n",
              "      <td>2.0</td>\n",
              "      <td>9.0</td>\n",
              "      <td>1.0</td>\n",
              "      <td>1.0</td>\n",
              "      <td>1.0</td>\n",
              "      <td>2.0</td>\n",
              "      <td>5.0</td>\n",
              "      <td>88.0</td>\n",
              "      <td>20.0</td>\n",
              "      <td>2.0</td>\n",
              "      <td>2.0</td>\n",
              "      <td>9.0</td>\n",
              "      <td>5.0</td>\n",
              "      <td>77.0</td>\n",
              "      <td>1.0</td>\n",
              "      <td>2.0</td>\n",
              "      <td>2.0</td>\n",
              "      <td>2.0</td>\n",
              "      <td>204.0</td>\n",
              "      <td>310.0</td>\n",
              "      <td>2.0</td>\n",
              "      <td>1.0</td>\n",
              "    </tr>\n",
              "  </tbody>\n",
              "</table>\n",
              "</div>"
            ],
            "text/plain": [
              "   _MICHD  _RFHYPE5  TOLDHI2  _CHOLCHK  ...  FVGREEN  FVORANG  EXERANY2  _LTASTH1\n",
              "0     2.0       2.0      1.0       1.0  ...    310.0    305.0       2.0       2.0\n",
              "1     2.0       1.0      2.0       2.0  ...    202.0    202.0       1.0       1.0\n",
              "2     NaN       1.0      1.0       1.0  ...      NaN      NaN       NaN       1.0\n",
              "3     2.0       2.0      1.0       1.0  ...    301.0    301.0       2.0       1.0\n",
              "4     2.0       1.0      2.0       1.0  ...    204.0    310.0       2.0       1.0\n",
              "\n",
              "[5 rows x 30 columns]"
            ]
          },
          "metadata": {},
          "execution_count": 159
        }
      ]
    },
    {
      "cell_type": "code",
      "metadata": {
        "colab": {
          "base_uri": "https://localhost:8080/"
        },
        "id": "QJwG5dZViuLn",
        "outputId": "e274d88b-57a3-44e5-fb48-3325814a571a"
      },
      "source": [
        "df_selected = df_selected.dropna()\n",
        "df_selected.shape"
      ],
      "execution_count": null,
      "outputs": [
        {
          "output_type": "execute_result",
          "data": {
            "text/plain": [
              "(328598, 30)"
            ]
          },
          "metadata": {},
          "execution_count": 160
        }
      ]
    },
    {
      "cell_type": "code",
      "metadata": {
        "colab": {
          "base_uri": "https://localhost:8080/"
        },
        "id": "KtRR8_Pv26V8",
        "outputId": "fcb35574-dd9b-4e17-9a96-06028153123d"
      },
      "source": [
        "df_selected['_MICHD'].value_counts()"
      ],
      "execution_count": null,
      "outputs": [
        {
          "output_type": "execute_result",
          "data": {
            "text/plain": [
              "2.0    295460\n",
              "1.0     33138\n",
              "Name: _MICHD, dtype: int64"
            ]
          },
          "metadata": {},
          "execution_count": 161
        }
      ]
    },
    {
      "cell_type": "code",
      "metadata": {
        "colab": {
          "base_uri": "https://localhost:8080/"
        },
        "id": "cwK6dWht1L4y",
        "outputId": "9dcae4ff-2f5b-47db-8027-3de7858873dc"
      },
      "source": [
        "df_selected['_MICHD'] = df_selected['_MICHD'].replace({2: 0})\n",
        "df_selected._MICHD.unique()"
      ],
      "execution_count": null,
      "outputs": [
        {
          "output_type": "execute_result",
          "data": {
            "text/plain": [
              "array([0., 1.])"
            ]
          },
          "metadata": {},
          "execution_count": 162
        }
      ]
    },
    {
      "cell_type": "code",
      "metadata": {
        "colab": {
          "base_uri": "https://localhost:8080/"
        },
        "id": "_T9AsjVtwyBG",
        "outputId": "945629b1-63ca-4494-be68-a08e2d497572"
      },
      "source": [
        "df_selected['_MICHD'].value_counts()"
      ],
      "execution_count": null,
      "outputs": [
        {
          "output_type": "execute_result",
          "data": {
            "text/plain": [
              "0.0    295460\n",
              "1.0     33138\n",
              "Name: _MICHD, dtype: int64"
            ]
          },
          "metadata": {},
          "execution_count": 163
        }
      ]
    },
    {
      "cell_type": "code",
      "metadata": {
        "colab": {
          "base_uri": "https://localhost:8080/"
        },
        "id": "_vQAcJIU2Yx_",
        "outputId": "3ac2ee9d-2cc5-457b-e2db-afedfc242040"
      },
      "source": [
        "df_selected['_RFHYPE5'].value_counts()"
      ],
      "execution_count": null,
      "outputs": [
        {
          "output_type": "execute_result",
          "data": {
            "text/plain": [
              "1.0    182976\n",
              "2.0    144965\n",
              "9.0       657\n",
              "Name: _RFHYPE5, dtype: int64"
            ]
          },
          "metadata": {},
          "execution_count": 164
        }
      ]
    },
    {
      "cell_type": "code",
      "metadata": {
        "colab": {
          "base_uri": "https://localhost:8080/"
        },
        "id": "eAUsc8T31dG2",
        "outputId": "4e5850cd-e2c1-43b1-d6fe-43e8e8d0be6d"
      },
      "source": [
        "df_selected['_RFHYPE5'] = df_selected['_RFHYPE5'].replace({1:0, 2:1})\n",
        "df_selected = df_selected[df_selected._RFHYPE5 != 9]\n",
        "df_selected._RFHYPE5.unique()"
      ],
      "execution_count": null,
      "outputs": [
        {
          "output_type": "execute_result",
          "data": {
            "text/plain": [
              "array([1., 0.])"
            ]
          },
          "metadata": {},
          "execution_count": 165
        }
      ]
    },
    {
      "cell_type": "code",
      "metadata": {
        "colab": {
          "base_uri": "https://localhost:8080/"
        },
        "id": "AeQd9Xyu5fqv",
        "outputId": "b6ff723f-3f42-4bfc-edc7-88b938fcb18c"
      },
      "source": [
        "df_selected['TOLDHI2'].value_counts()"
      ],
      "execution_count": null,
      "outputs": [
        {
          "output_type": "execute_result",
          "data": {
            "text/plain": [
              "2.0    185996\n",
              "1.0    139360\n",
              "7.0      2358\n",
              "9.0       227\n",
              "Name: TOLDHI2, dtype: int64"
            ]
          },
          "metadata": {},
          "execution_count": 166
        }
      ]
    },
    {
      "cell_type": "code",
      "metadata": {
        "colab": {
          "base_uri": "https://localhost:8080/"
        },
        "id": "nkpMo31O5aiU",
        "outputId": "5e4d7e2a-9394-48f2-ced4-5dc96b2cf639"
      },
      "source": [
        "df_selected['TOLDHI2'] = df_selected['TOLDHI2'].replace({2:0})\n",
        "df_selected = df_selected[df_selected.TOLDHI2 != 7]\n",
        "df_selected = df_selected[df_selected.TOLDHI2 != 9]\n",
        "df_selected.TOLDHI2.unique()"
      ],
      "execution_count": null,
      "outputs": [
        {
          "output_type": "execute_result",
          "data": {
            "text/plain": [
              "array([1., 0.])"
            ]
          },
          "metadata": {},
          "execution_count": 167
        }
      ]
    },
    {
      "cell_type": "code",
      "metadata": {
        "colab": {
          "base_uri": "https://localhost:8080/"
        },
        "id": "Bhk5LnZPExbE",
        "outputId": "a6b37e8d-ec56-45e1-cdd6-d95bc6a3919c"
      },
      "source": [
        "df_selected['_BMI5'].value_counts()"
      ],
      "execution_count": null,
      "outputs": [
        {
          "output_type": "execute_result",
          "data": {
            "text/plain": [
              "2663.0    3802\n",
              "2746.0    3101\n",
              "2744.0    3074\n",
              "2712.0    2527\n",
              "2441.0    2518\n",
              "          ... \n",
              "5673.0       1\n",
              "2839.0       1\n",
              "1248.0       1\n",
              "2840.0       1\n",
              "4538.0       1\n",
              "Name: _BMI5, Length: 3505, dtype: int64"
            ]
          },
          "metadata": {},
          "execution_count": 168
        }
      ]
    },
    {
      "cell_type": "code",
      "metadata": {
        "colab": {
          "base_uri": "https://localhost:8080/"
        },
        "id": "-S5vYf4xEtC1",
        "outputId": "d7dffdb3-562f-4a91-974f-a7f164c4f38a"
      },
      "source": [
        "df_selected['_BMI5'] = df_selected['_BMI5'].div(100).round(0)\n",
        "df_selected._BMI5.unique()"
      ],
      "execution_count": null,
      "outputs": [
        {
          "output_type": "execute_result",
          "data": {
            "text/plain": [
              "array([40., 25., 28., 24., 27., 30., 26., 34., 31., 23., 33., 21., 22.,\n",
              "       38., 20., 19., 32., 37., 36., 29., 35., 18., 45., 39., 47., 43.,\n",
              "       55., 49., 42., 17., 16., 41., 48., 44., 50., 59., 46., 15., 52.,\n",
              "       54., 53., 57., 51., 14., 58., 63., 61., 56., 60., 74., 62., 64.,\n",
              "       13., 66., 73., 65., 68., 85., 71., 84., 67., 70., 82., 79., 92.,\n",
              "       72., 88., 96., 81., 12., 77., 75., 91., 69., 76., 87., 89., 95.,\n",
              "       83., 98., 86., 80., 90., 78., 97.])"
            ]
          },
          "metadata": {},
          "execution_count": 169
        }
      ]
    },
    {
      "cell_type": "code",
      "metadata": {
        "colab": {
          "base_uri": "https://localhost:8080/"
        },
        "id": "PFrYa5SAFGOg",
        "outputId": "034a2c10-3274-4afe-b98b-3a329b26c487"
      },
      "source": [
        "df_selected['SMOKE100'] = df_selected['SMOKE100'].replace({2:0})\n",
        "df_selected = df_selected[df_selected.SMOKE100 != 7]\n",
        "df_selected = df_selected[df_selected.SMOKE100 != 9]\n",
        "df_selected.SMOKE100.unique()"
      ],
      "execution_count": null,
      "outputs": [
        {
          "output_type": "execute_result",
          "data": {
            "text/plain": [
              "array([1., 0.])"
            ]
          },
          "metadata": {},
          "execution_count": 170
        }
      ]
    },
    {
      "cell_type": "code",
      "metadata": {
        "colab": {
          "base_uri": "https://localhost:8080/"
        },
        "id": "FouZwK7bFN4s",
        "outputId": "45eb8138-2d17-41f8-ed5f-92c53cd65109"
      },
      "source": [
        "df_selected['CVDSTRK3'] = df_selected['CVDSTRK3'].replace({2:0})\n",
        "df_selected = df_selected[df_selected.CVDSTRK3 != 7]\n",
        "df_selected = df_selected[df_selected.CVDSTRK3 != 9]\n",
        "df_selected.CVDSTRK3.unique()"
      ],
      "execution_count": null,
      "outputs": [
        {
          "output_type": "execute_result",
          "data": {
            "text/plain": [
              "array([0., 1.])"
            ]
          },
          "metadata": {},
          "execution_count": 171
        }
      ]
    },
    {
      "cell_type": "code",
      "metadata": {
        "colab": {
          "base_uri": "https://localhost:8080/"
        },
        "id": "6eFvaPlkFdnn",
        "outputId": "23970fcf-d033-492e-b8f6-906a655ccd22"
      },
      "source": [
        "df_selected['DIABETE3'].value_counts()"
      ],
      "execution_count": null,
      "outputs": [
        {
          "output_type": "execute_result",
          "data": {
            "text/plain": [
              "3.0    267422\n",
              "1.0     46380\n",
              "4.0      6126\n",
              "2.0      2453\n",
              "7.0       280\n",
              "9.0        27\n",
              "Name: DIABETE3, dtype: int64"
            ]
          },
          "metadata": {},
          "execution_count": 172
        }
      ]
    },
    {
      "cell_type": "code",
      "metadata": {
        "colab": {
          "base_uri": "https://localhost:8080/"
        },
        "id": "lBxl_EAZFUV4",
        "outputId": "805c1c35-d921-4bed-d5d6-52781f7a2e03"
      },
      "source": [
        "df_selected['DIABETE3'] = df_selected['DIABETE3'].replace({2:0, 3:0, 1:2, 4:1})\n",
        "df_selected = df_selected[df_selected.DIABETE3 != 7]\n",
        "df_selected = df_selected[df_selected.DIABETE3 != 9]\n",
        "df_selected.DIABETE3.unique()"
      ],
      "execution_count": null,
      "outputs": [
        {
          "output_type": "execute_result",
          "data": {
            "text/plain": [
              "array([0., 2., 1.])"
            ]
          },
          "metadata": {},
          "execution_count": 173
        }
      ]
    },
    {
      "cell_type": "code",
      "metadata": {
        "colab": {
          "base_uri": "https://localhost:8080/"
        },
        "id": "bqmftL2SGF2u",
        "outputId": "ad5d5fdc-e409-4e3f-d623-bb52dc891335"
      },
      "source": [
        "df_selected['_TOTINDA'] = df_selected['_TOTINDA'].replace({2:0})\n",
        "df_selected = df_selected[df_selected._TOTINDA != 9]\n",
        "df_selected._TOTINDA.unique()"
      ],
      "execution_count": null,
      "outputs": [
        {
          "output_type": "execute_result",
          "data": {
            "text/plain": [
              "array([0., 1.])"
            ]
          },
          "metadata": {},
          "execution_count": 174
        }
      ]
    },
    {
      "cell_type": "code",
      "metadata": {
        "colab": {
          "base_uri": "https://localhost:8080/"
        },
        "id": "QIpzkxWvGPAv",
        "outputId": "19ed6446-5271-47e5-b433-404850d197d0"
      },
      "source": [
        "df_selected['_FRTLT1'] = df_selected['_FRTLT1'].replace({2:0})\n",
        "df_selected = df_selected[df_selected._FRTLT1 != 9]\n",
        "df_selected._FRTLT1.unique()"
      ],
      "execution_count": null,
      "outputs": [
        {
          "output_type": "execute_result",
          "data": {
            "text/plain": [
              "array([0., 1.])"
            ]
          },
          "metadata": {},
          "execution_count": 175
        }
      ]
    },
    {
      "cell_type": "code",
      "metadata": {
        "colab": {
          "base_uri": "https://localhost:8080/"
        },
        "id": "eTsfpjL4GaN5",
        "outputId": "01d047f7-3ecf-4d30-ba8e-ac6c11f602eb"
      },
      "source": [
        "df_selected['_VEGLT1'] = df_selected['_VEGLT1'].replace({2:0})\n",
        "df_selected = df_selected[df_selected._VEGLT1 != 9]\n",
        "df_selected._VEGLT1.unique()"
      ],
      "execution_count": null,
      "outputs": [
        {
          "output_type": "execute_result",
          "data": {
            "text/plain": [
              "array([1., 0.])"
            ]
          },
          "metadata": {},
          "execution_count": 176
        }
      ]
    },
    {
      "cell_type": "code",
      "metadata": {
        "colab": {
          "base_uri": "https://localhost:8080/"
        },
        "id": "h-2dyw08Gg5K",
        "outputId": "50e5045c-3ef1-4bd6-9a24-4f7faf44a6d7"
      },
      "source": [
        "df_selected['_RFDRHV5'] = df_selected['_RFDRHV5'].replace({1:0, 2:1})\n",
        "df_selected = df_selected[df_selected._RFDRHV5 != 9]\n",
        "df_selected._RFDRHV5.unique()"
      ],
      "execution_count": null,
      "outputs": [
        {
          "output_type": "execute_result",
          "data": {
            "text/plain": [
              "array([0., 1.])"
            ]
          },
          "metadata": {},
          "execution_count": 177
        }
      ]
    },
    {
      "cell_type": "code",
      "metadata": {
        "colab": {
          "base_uri": "https://localhost:8080/"
        },
        "id": "Unqd33jhHOAn",
        "outputId": "728b7a0b-00f3-4f05-f0e8-cf9840058a32"
      },
      "source": [
        "df_selected['HLTHPLN1'] = df_selected['HLTHPLN1'].replace({2:0})\n",
        "df_selected = df_selected[df_selected.HLTHPLN1 != 7]\n",
        "df_selected = df_selected[df_selected.HLTHPLN1 != 9]\n",
        "df_selected.HLTHPLN1.unique()"
      ],
      "execution_count": null,
      "outputs": [
        {
          "output_type": "execute_result",
          "data": {
            "text/plain": [
              "array([1., 0.])"
            ]
          },
          "metadata": {},
          "execution_count": 178
        }
      ]
    },
    {
      "cell_type": "code",
      "metadata": {
        "colab": {
          "base_uri": "https://localhost:8080/"
        },
        "id": "F8M2vYp2HaDd",
        "outputId": "bdf47cfa-731a-4939-f682-a8e602d952ae"
      },
      "source": [
        "df_selected['MEDCOST'] = df_selected['MEDCOST'].replace({2:0})\n",
        "df_selected = df_selected[df_selected.MEDCOST != 7]\n",
        "df_selected = df_selected[df_selected.MEDCOST != 9]\n",
        "df_selected.MEDCOST.unique()"
      ],
      "execution_count": null,
      "outputs": [
        {
          "output_type": "execute_result",
          "data": {
            "text/plain": [
              "array([0., 1.])"
            ]
          },
          "metadata": {},
          "execution_count": 179
        }
      ]
    },
    {
      "cell_type": "code",
      "metadata": {
        "colab": {
          "base_uri": "https://localhost:8080/"
        },
        "id": "WZhTtZ3RHgk0",
        "outputId": "d1af60d3-99a6-4fc9-d78f-d179ebdd2d12"
      },
      "source": [
        "df_selected['GENHLTH'].value_counts()"
      ],
      "execution_count": null,
      "outputs": [
        {
          "output_type": "execute_result",
          "data": {
            "text/plain": [
              "2.0    102826\n",
              "3.0     90381\n",
              "1.0     52279\n",
              "4.0     39339\n",
              "5.0     15352\n",
              "7.0       317\n",
              "9.0       209\n",
              "Name: GENHLTH, dtype: int64"
            ]
          },
          "metadata": {},
          "execution_count": 180
        }
      ]
    },
    {
      "cell_type": "code",
      "metadata": {
        "colab": {
          "base_uri": "https://localhost:8080/"
        },
        "id": "bPv0lKisHge-",
        "outputId": "440c6ecd-e380-4e4d-b436-a61a0fdbd3da"
      },
      "source": [
        "df_selected = df_selected[df_selected.GENHLTH != 7]\n",
        "df_selected = df_selected[df_selected.GENHLTH != 9]\n",
        "df_selected.GENHLTH.unique()"
      ],
      "execution_count": null,
      "outputs": [
        {
          "output_type": "execute_result",
          "data": {
            "text/plain": [
              "array([5., 3., 2., 4., 1.])"
            ]
          },
          "metadata": {},
          "execution_count": 181
        }
      ]
    },
    {
      "cell_type": "code",
      "metadata": {
        "colab": {
          "base_uri": "https://localhost:8080/"
        },
        "id": "JBUHVnlLH8M_",
        "outputId": "784be638-5e5d-41f0-fd10-eca5f612b40a"
      },
      "source": [
        "df_selected['MENTHLTH'].value_counts()"
      ],
      "execution_count": null,
      "outputs": [
        {
          "output_type": "execute_result",
          "data": {
            "text/plain": [
              "88.0    207158\n",
              "2.0      14860\n",
              "30.0     14312\n",
              "5.0      10239\n",
              "1.0       9717\n",
              "3.0       8439\n",
              "10.0      7289\n",
              "15.0      6416\n",
              "4.0       4333\n",
              "20.0      3922\n",
              "7.0       3584\n",
              "77.0      2257\n",
              "25.0      1373\n",
              "14.0      1363\n",
              "6.0       1155\n",
              "99.0       922\n",
              "8.0        737\n",
              "12.0       473\n",
              "28.0       377\n",
              "21.0       260\n",
              "29.0       192\n",
              "9.0        116\n",
              "18.0       114\n",
              "16.0       102\n",
              "27.0        92\n",
              "22.0        70\n",
              "17.0        62\n",
              "13.0        52\n",
              "26.0        51\n",
              "23.0        45\n",
              "11.0        42\n",
              "24.0        35\n",
              "19.0        18\n",
              "Name: MENTHLTH, dtype: int64"
            ]
          },
          "metadata": {},
          "execution_count": 182
        }
      ]
    },
    {
      "cell_type": "code",
      "metadata": {
        "colab": {
          "base_uri": "https://localhost:8080/"
        },
        "id": "DDQ-0njuHz7O",
        "outputId": "e34f63cd-a187-4c63-8cb9-76b8ff8abd3b"
      },
      "source": [
        "df_selected['MENTHLTH'] = df_selected['MENTHLTH'].replace({88:0})\n",
        "df_selected = df_selected[df_selected.MENTHLTH != 77]\n",
        "df_selected = df_selected[df_selected.MENTHLTH != 99]\n",
        "df_selected.MENTHLTH.unique()"
      ],
      "execution_count": null,
      "outputs": [
        {
          "output_type": "execute_result",
          "data": {
            "text/plain": [
              "array([18.,  0., 30.,  3.,  5., 15., 10.,  6., 20.,  2., 25.,  1., 29.,\n",
              "        4.,  7.,  8., 21., 14., 26.,  9., 16., 28., 11., 12., 24., 17.,\n",
              "       13., 23., 27., 19., 22.])"
            ]
          },
          "metadata": {},
          "execution_count": 183
        }
      ]
    },
    {
      "cell_type": "code",
      "metadata": {
        "colab": {
          "base_uri": "https://localhost:8080/"
        },
        "id": "ujpmKWWnIYlH",
        "outputId": "e03fe965-ad15-4645-a694-2b839194970c"
      },
      "source": [
        "df_selected['PHYSHLTH'] = df_selected['PHYSHLTH'].replace({88:0})\n",
        "df_selected = df_selected[df_selected.PHYSHLTH != 77]\n",
        "df_selected = df_selected[df_selected.PHYSHLTH != 99]\n",
        "df_selected.PHYSHLTH.unique()"
      ],
      "execution_count": null,
      "outputs": [
        {
          "output_type": "execute_result",
          "data": {
            "text/plain": [
              "array([15.,  0., 30.,  2., 14., 28.,  7., 20.,  3., 10.,  1.,  5., 17.,\n",
              "        4., 19.,  6., 21., 12.,  8., 25., 27., 22., 29., 24.,  9., 16.,\n",
              "       18., 23., 13., 26., 11.])"
            ]
          },
          "metadata": {},
          "execution_count": 184
        }
      ]
    },
    {
      "cell_type": "code",
      "metadata": {
        "colab": {
          "base_uri": "https://localhost:8080/"
        },
        "id": "i7nX7-H2Iwnl",
        "outputId": "153abb80-4d73-4f3c-9bfb-4b269348de5d"
      },
      "source": [
        "df_selected['DIFFWALK'] = df_selected['DIFFWALK'].replace({2:0})\n",
        "df_selected = df_selected[df_selected.DIFFWALK != 7]\n",
        "df_selected = df_selected[df_selected.DIFFWALK != 9]\n",
        "df_selected.DIFFWALK.unique()"
      ],
      "execution_count": null,
      "outputs": [
        {
          "output_type": "execute_result",
          "data": {
            "text/plain": [
              "array([1., 0.])"
            ]
          },
          "metadata": {},
          "execution_count": 185
        }
      ]
    },
    {
      "cell_type": "code",
      "metadata": {
        "colab": {
          "base_uri": "https://localhost:8080/"
        },
        "id": "VKOaX8nkI3FN",
        "outputId": "728fee77-222a-4571-c5fb-bbadfaaf95ea"
      },
      "source": [
        "df_selected['SEX'] = df_selected['SEX'].replace({2:0})\n",
        "df_selected.SEX.unique()"
      ],
      "execution_count": null,
      "outputs": [
        {
          "output_type": "execute_result",
          "data": {
            "text/plain": [
              "array([0., 1.])"
            ]
          },
          "metadata": {},
          "execution_count": 186
        }
      ]
    },
    {
      "cell_type": "code",
      "metadata": {
        "colab": {
          "base_uri": "https://localhost:8080/"
        },
        "id": "CzA2v_vlI-S-",
        "outputId": "72461792-07db-4885-9445-165d160e1661"
      },
      "source": [
        "df_selected['_AGEG5YR'].value_counts()"
      ],
      "execution_count": null,
      "outputs": [
        {
          "output_type": "execute_result",
          "data": {
            "text/plain": [
              "9.0     37623\n",
              "10.0    37437\n",
              "8.0     34390\n",
              "7.0     29001\n",
              "11.0    28266\n",
              "13.0    22587\n",
              "6.0     21586\n",
              "12.0    19736\n",
              "5.0     17490\n",
              "4.0     15034\n",
              "3.0     12087\n",
              "2.0      8472\n",
              "1.0      7316\n",
              "14.0     1468\n",
              "Name: _AGEG5YR, dtype: int64"
            ]
          },
          "metadata": {},
          "execution_count": 187
        }
      ]
    },
    {
      "cell_type": "code",
      "metadata": {
        "colab": {
          "base_uri": "https://localhost:8080/"
        },
        "id": "xDZFpwdGI7sz",
        "outputId": "ced7c06a-4321-4d75-dc72-9dbcc430d6f1"
      },
      "source": [
        "df_selected = df_selected[df_selected._AGEG5YR != 14]\n",
        "df_selected._AGEG5YR.unique()"
      ],
      "execution_count": null,
      "outputs": [
        {
          "output_type": "execute_result",
          "data": {
            "text/plain": [
              "array([ 9.,  7., 11., 10., 13.,  8.,  4.,  6.,  2., 12.,  5.,  1.,  3.])"
            ]
          },
          "metadata": {},
          "execution_count": 188
        }
      ]
    },
    {
      "cell_type": "code",
      "metadata": {
        "colab": {
          "base_uri": "https://localhost:8080/"
        },
        "id": "Z4SoY3weJOdH",
        "outputId": "735163b9-4094-4877-c383-bedc53a081bf"
      },
      "source": [
        "df_selected = df_selected[df_selected.EDUCA != 9]\n",
        "df_selected.EDUCA.unique()"
      ],
      "execution_count": null,
      "outputs": [
        {
          "output_type": "execute_result",
          "data": {
            "text/plain": [
              "array([4., 6., 3., 5., 2., 1.])"
            ]
          },
          "metadata": {},
          "execution_count": 189
        }
      ]
    },
    {
      "cell_type": "code",
      "metadata": {
        "colab": {
          "base_uri": "https://localhost:8080/"
        },
        "id": "DJyT1_8-JUPa",
        "outputId": "fcc556dd-a3e3-4b5d-f0fb-0a0b886da8a4"
      },
      "source": [
        "df_selected = df_selected[df_selected.INCOME2 != 77]\n",
        "df_selected = df_selected[df_selected.INCOME2 != 99]\n",
        "df_selected.INCOME2.unique()"
      ],
      "execution_count": null,
      "outputs": [
        {
          "output_type": "execute_result",
          "data": {
            "text/plain": [
              "array([3., 1., 8., 6., 4., 7., 2., 5.])"
            ]
          },
          "metadata": {},
          "execution_count": 190
        }
      ]
    },
    {
      "cell_type": "code",
      "metadata": {
        "colab": {
          "base_uri": "https://localhost:8080/"
        },
        "id": "gjl6IHsyJc44",
        "outputId": "a6dfbe72-6b0a-47ec-86d8-5f71d5b2a8df"
      },
      "source": [
        "df_selected['CHECKUP1'] = df_selected['CHECKUP1'].replace({7:0, 8:0})\n",
        "df_selected = df_selected[df_selected.CHECKUP1 != 9]\n",
        "df_selected.CHECKUP1.unique()"
      ],
      "execution_count": null,
      "outputs": [
        {
          "output_type": "execute_result",
          "data": {
            "text/plain": [
              "array([1., 4., 2., 3., 0.])"
            ]
          },
          "metadata": {},
          "execution_count": 191
        }
      ]
    },
    {
      "cell_type": "code",
      "metadata": {
        "colab": {
          "base_uri": "https://localhost:8080/"
        },
        "id": "_xqasCp6MLqE",
        "outputId": "1c667d43-eef9-40a4-99b3-5ddddb5b3db6"
      },
      "source": [
        "df_selected['CVDINFR4'] = df_selected['CVDINFR4'].replace({2:0, 7:0})\n",
        "df_selected = df_selected[df_selected.CVDINFR4 != 9]\n",
        "df_selected.CVDINFR4.unique()"
      ],
      "execution_count": null,
      "outputs": [
        {
          "output_type": "execute_result",
          "data": {
            "text/plain": [
              "array([0., 1.])"
            ]
          },
          "metadata": {},
          "execution_count": 192
        }
      ]
    },
    {
      "cell_type": "code",
      "metadata": {
        "colab": {
          "base_uri": "https://localhost:8080/"
        },
        "id": "dlY5-O6VMuFP",
        "outputId": "2480c996-3de9-4526-a185-c43dcff3ed82"
      },
      "source": [
        "df_selected['CVDCRHD4'] = df_selected['CVDCRHD4'].replace({2:0, 7:0})\n",
        "df_selected = df_selected[df_selected.CVDCRHD4 != 9]\n",
        "df_selected.CVDCRHD4.unique()"
      ],
      "execution_count": null,
      "outputs": [
        {
          "output_type": "execute_result",
          "data": {
            "text/plain": [
              "array([0., 1.])"
            ]
          },
          "metadata": {},
          "execution_count": 193
        }
      ]
    },
    {
      "cell_type": "code",
      "metadata": {
        "colab": {
          "base_uri": "https://localhost:8080/"
        },
        "id": "pakNGd-aM-VF",
        "outputId": "85f462dc-f0b8-448c-a852-31ebcb4608fb"
      },
      "source": [
        "df_selected['ADDEPEV2'] = df_selected['ADDEPEV2'].replace({2:0, 7:0})\n",
        "df_selected = df_selected[df_selected.ADDEPEV2 != 9]\n",
        "df_selected.ADDEPEV2.unique()"
      ],
      "execution_count": null,
      "outputs": [
        {
          "output_type": "execute_result",
          "data": {
            "text/plain": [
              "array([1., 0.])"
            ]
          },
          "metadata": {},
          "execution_count": 194
        }
      ]
    },
    {
      "cell_type": "code",
      "metadata": {
        "colab": {
          "base_uri": "https://localhost:8080/"
        },
        "id": "69KfPQsKNFjP",
        "outputId": "8f1f3161-73ee-4297-cac0-ab49d7b7d39e"
      },
      "source": [
        "df_selected.loc[(df_selected['FVGREEN'] >= 101) & (df_selected['FVGREEN'] <= 299),'FVGREEN'] = 1\n",
        "df_selected.loc[(df_selected['FVGREEN'] >= 300) & (df_selected['FVGREEN'] <= 399),'FVGREEN'] = 0\n",
        "df_selected['FVGREEN'] = df_selected['FVGREEN'].replace({555:0, 777:0})\n",
        "df_selected = df_selected[df_selected.FVGREEN != 999]\n",
        "df_selected.FVGREEN.unique()"
      ],
      "execution_count": null,
      "outputs": [
        {
          "output_type": "execute_result",
          "data": {
            "text/plain": [
              "array([0., 1.])"
            ]
          },
          "metadata": {},
          "execution_count": 195
        }
      ]
    },
    {
      "cell_type": "code",
      "metadata": {
        "colab": {
          "base_uri": "https://localhost:8080/"
        },
        "id": "yVR0vdAqVbQ8",
        "outputId": "c3915b9d-886c-446c-d9a5-44e0df434ba2"
      },
      "source": [
        "df_selected.loc[(df_selected['FVORANG'] >= 101) & (df_selected['FVORANG'] <= 299),'FVORANG'] = 1\n",
        "df_selected.loc[(df_selected['FVORANG'] >= 300) & (df_selected['FVORANG'] <= 399),'FVORANG'] = 0\n",
        "df_selected['FVORANG'] = df_selected['FVORANG'].replace({555:0, 777:0})\n",
        "df_selected = df_selected[df_selected.FVORANG != 999]\n",
        "df_selected.FVORANG.unique()"
      ],
      "execution_count": null,
      "outputs": [
        {
          "output_type": "execute_result",
          "data": {
            "text/plain": [
              "array([0., 1.])"
            ]
          },
          "metadata": {},
          "execution_count": 196
        }
      ]
    },
    {
      "cell_type": "code",
      "metadata": {
        "colab": {
          "base_uri": "https://localhost:8080/"
        },
        "id": "1ZZVjpAoV4Ql",
        "outputId": "00bc0537-d6b3-458c-e540-6de07b4e7716"
      },
      "source": [
        "df_selected['EXERANY2'] = df_selected['EXERANY2'].replace({2:0})\n",
        "df_selected = df_selected[df_selected.EXERANY2 != 7]\n",
        "df_selected = df_selected[df_selected.EXERANY2 != 9]\n",
        "df_selected.EXERANY2.unique()"
      ],
      "execution_count": null,
      "outputs": [
        {
          "output_type": "execute_result",
          "data": {
            "text/plain": [
              "array([0., 1.])"
            ]
          },
          "metadata": {},
          "execution_count": 197
        }
      ]
    },
    {
      "cell_type": "code",
      "metadata": {
        "colab": {
          "base_uri": "https://localhost:8080/"
        },
        "id": "ihfC7cZVWH2f",
        "outputId": "05967ad1-b371-4ab1-8e99-c95536f6d955"
      },
      "source": [
        "df_selected['_LTASTH1'] = df_selected['_LTASTH1'].replace({1:0, 2:1})\n",
        "df_selected = df_selected[df_selected._LTASTH1 != 9]\n",
        "df_selected._LTASTH1.unique()"
      ],
      "execution_count": null,
      "outputs": [
        {
          "output_type": "execute_result",
          "data": {
            "text/plain": [
              "array([1., 0.])"
            ]
          },
          "metadata": {},
          "execution_count": 198
        }
      ]
    },
    {
      "cell_type": "code",
      "metadata": {
        "colab": {
          "base_uri": "https://localhost:8080/"
        },
        "id": "xhxm2Mh8YauN",
        "outputId": "9098152b-1042-4ecb-d8c9-27b87a9005cd"
      },
      "source": [
        "df_selected.shape"
      ],
      "execution_count": null,
      "outputs": [
        {
          "output_type": "execute_result",
          "data": {
            "text/plain": [
              "(255041, 30)"
            ]
          },
          "metadata": {},
          "execution_count": 199
        }
      ]
    },
    {
      "cell_type": "code",
      "metadata": {
        "colab": {
          "base_uri": "https://localhost:8080/",
          "height": 223
        },
        "id": "mKzw03AmYeox",
        "outputId": "c1e9aa28-e262-4354-da7d-d953450da49d"
      },
      "source": [
        "df_selected.head()"
      ],
      "execution_count": null,
      "outputs": [
        {
          "output_type": "execute_result",
          "data": {
            "text/html": [
              "<div>\n",
              "<style scoped>\n",
              "    .dataframe tbody tr th:only-of-type {\n",
              "        vertical-align: middle;\n",
              "    }\n",
              "\n",
              "    .dataframe tbody tr th {\n",
              "        vertical-align: top;\n",
              "    }\n",
              "\n",
              "    .dataframe thead th {\n",
              "        text-align: right;\n",
              "    }\n",
              "</style>\n",
              "<table border=\"1\" class=\"dataframe\">\n",
              "  <thead>\n",
              "    <tr style=\"text-align: right;\">\n",
              "      <th></th>\n",
              "      <th>_MICHD</th>\n",
              "      <th>_RFHYPE5</th>\n",
              "      <th>TOLDHI2</th>\n",
              "      <th>_CHOLCHK</th>\n",
              "      <th>_BMI5</th>\n",
              "      <th>SMOKE100</th>\n",
              "      <th>CVDSTRK3</th>\n",
              "      <th>DIABETE3</th>\n",
              "      <th>_TOTINDA</th>\n",
              "      <th>_FRTLT1</th>\n",
              "      <th>_VEGLT1</th>\n",
              "      <th>_RFDRHV5</th>\n",
              "      <th>HLTHPLN1</th>\n",
              "      <th>MEDCOST</th>\n",
              "      <th>GENHLTH</th>\n",
              "      <th>MENTHLTH</th>\n",
              "      <th>PHYSHLTH</th>\n",
              "      <th>DIFFWALK</th>\n",
              "      <th>SEX</th>\n",
              "      <th>_AGEG5YR</th>\n",
              "      <th>EDUCA</th>\n",
              "      <th>INCOME2</th>\n",
              "      <th>CHECKUP1</th>\n",
              "      <th>CVDINFR4</th>\n",
              "      <th>CVDCRHD4</th>\n",
              "      <th>ADDEPEV2</th>\n",
              "      <th>FVGREEN</th>\n",
              "      <th>FVORANG</th>\n",
              "      <th>EXERANY2</th>\n",
              "      <th>_LTASTH1</th>\n",
              "    </tr>\n",
              "  </thead>\n",
              "  <tbody>\n",
              "    <tr>\n",
              "      <th>0</th>\n",
              "      <td>0.0</td>\n",
              "      <td>1.0</td>\n",
              "      <td>1.0</td>\n",
              "      <td>1.0</td>\n",
              "      <td>40.0</td>\n",
              "      <td>1.0</td>\n",
              "      <td>0.0</td>\n",
              "      <td>0.0</td>\n",
              "      <td>0.0</td>\n",
              "      <td>0.0</td>\n",
              "      <td>1.0</td>\n",
              "      <td>0.0</td>\n",
              "      <td>1.0</td>\n",
              "      <td>0.0</td>\n",
              "      <td>5.0</td>\n",
              "      <td>18.0</td>\n",
              "      <td>15.0</td>\n",
              "      <td>1.0</td>\n",
              "      <td>0.0</td>\n",
              "      <td>9.0</td>\n",
              "      <td>4.0</td>\n",
              "      <td>3.0</td>\n",
              "      <td>1.0</td>\n",
              "      <td>0.0</td>\n",
              "      <td>0.0</td>\n",
              "      <td>1.0</td>\n",
              "      <td>0.0</td>\n",
              "      <td>0.0</td>\n",
              "      <td>0.0</td>\n",
              "      <td>1.0</td>\n",
              "    </tr>\n",
              "    <tr>\n",
              "      <th>1</th>\n",
              "      <td>0.0</td>\n",
              "      <td>0.0</td>\n",
              "      <td>0.0</td>\n",
              "      <td>2.0</td>\n",
              "      <td>25.0</td>\n",
              "      <td>1.0</td>\n",
              "      <td>0.0</td>\n",
              "      <td>0.0</td>\n",
              "      <td>1.0</td>\n",
              "      <td>0.0</td>\n",
              "      <td>0.0</td>\n",
              "      <td>0.0</td>\n",
              "      <td>0.0</td>\n",
              "      <td>1.0</td>\n",
              "      <td>3.0</td>\n",
              "      <td>0.0</td>\n",
              "      <td>0.0</td>\n",
              "      <td>0.0</td>\n",
              "      <td>0.0</td>\n",
              "      <td>7.0</td>\n",
              "      <td>6.0</td>\n",
              "      <td>1.0</td>\n",
              "      <td>4.0</td>\n",
              "      <td>0.0</td>\n",
              "      <td>0.0</td>\n",
              "      <td>0.0</td>\n",
              "      <td>1.0</td>\n",
              "      <td>1.0</td>\n",
              "      <td>1.0</td>\n",
              "      <td>0.0</td>\n",
              "    </tr>\n",
              "    <tr>\n",
              "      <th>3</th>\n",
              "      <td>0.0</td>\n",
              "      <td>1.0</td>\n",
              "      <td>1.0</td>\n",
              "      <td>1.0</td>\n",
              "      <td>28.0</td>\n",
              "      <td>0.0</td>\n",
              "      <td>0.0</td>\n",
              "      <td>0.0</td>\n",
              "      <td>0.0</td>\n",
              "      <td>1.0</td>\n",
              "      <td>0.0</td>\n",
              "      <td>0.0</td>\n",
              "      <td>1.0</td>\n",
              "      <td>1.0</td>\n",
              "      <td>5.0</td>\n",
              "      <td>30.0</td>\n",
              "      <td>30.0</td>\n",
              "      <td>1.0</td>\n",
              "      <td>0.0</td>\n",
              "      <td>9.0</td>\n",
              "      <td>4.0</td>\n",
              "      <td>8.0</td>\n",
              "      <td>1.0</td>\n",
              "      <td>0.0</td>\n",
              "      <td>0.0</td>\n",
              "      <td>1.0</td>\n",
              "      <td>0.0</td>\n",
              "      <td>0.0</td>\n",
              "      <td>0.0</td>\n",
              "      <td>0.0</td>\n",
              "    </tr>\n",
              "    <tr>\n",
              "      <th>5</th>\n",
              "      <td>0.0</td>\n",
              "      <td>1.0</td>\n",
              "      <td>0.0</td>\n",
              "      <td>1.0</td>\n",
              "      <td>27.0</td>\n",
              "      <td>0.0</td>\n",
              "      <td>0.0</td>\n",
              "      <td>0.0</td>\n",
              "      <td>1.0</td>\n",
              "      <td>1.0</td>\n",
              "      <td>1.0</td>\n",
              "      <td>0.0</td>\n",
              "      <td>1.0</td>\n",
              "      <td>0.0</td>\n",
              "      <td>2.0</td>\n",
              "      <td>0.0</td>\n",
              "      <td>0.0</td>\n",
              "      <td>0.0</td>\n",
              "      <td>0.0</td>\n",
              "      <td>11.0</td>\n",
              "      <td>3.0</td>\n",
              "      <td>6.0</td>\n",
              "      <td>1.0</td>\n",
              "      <td>0.0</td>\n",
              "      <td>0.0</td>\n",
              "      <td>0.0</td>\n",
              "      <td>1.0</td>\n",
              "      <td>1.0</td>\n",
              "      <td>1.0</td>\n",
              "      <td>0.0</td>\n",
              "    </tr>\n",
              "    <tr>\n",
              "      <th>6</th>\n",
              "      <td>0.0</td>\n",
              "      <td>1.0</td>\n",
              "      <td>1.0</td>\n",
              "      <td>1.0</td>\n",
              "      <td>24.0</td>\n",
              "      <td>0.0</td>\n",
              "      <td>0.0</td>\n",
              "      <td>0.0</td>\n",
              "      <td>1.0</td>\n",
              "      <td>1.0</td>\n",
              "      <td>1.0</td>\n",
              "      <td>0.0</td>\n",
              "      <td>1.0</td>\n",
              "      <td>0.0</td>\n",
              "      <td>2.0</td>\n",
              "      <td>3.0</td>\n",
              "      <td>0.0</td>\n",
              "      <td>0.0</td>\n",
              "      <td>0.0</td>\n",
              "      <td>11.0</td>\n",
              "      <td>5.0</td>\n",
              "      <td>4.0</td>\n",
              "      <td>1.0</td>\n",
              "      <td>0.0</td>\n",
              "      <td>0.0</td>\n",
              "      <td>0.0</td>\n",
              "      <td>1.0</td>\n",
              "      <td>0.0</td>\n",
              "      <td>1.0</td>\n",
              "      <td>0.0</td>\n",
              "    </tr>\n",
              "  </tbody>\n",
              "</table>\n",
              "</div>"
            ],
            "text/plain": [
              "   _MICHD  _RFHYPE5  TOLDHI2  _CHOLCHK  ...  FVGREEN  FVORANG  EXERANY2  _LTASTH1\n",
              "0     0.0       1.0      1.0       1.0  ...      0.0      0.0       0.0       1.0\n",
              "1     0.0       0.0      0.0       2.0  ...      1.0      1.0       1.0       0.0\n",
              "3     0.0       1.0      1.0       1.0  ...      0.0      0.0       0.0       0.0\n",
              "5     0.0       1.0      0.0       1.0  ...      1.0      1.0       1.0       0.0\n",
              "6     0.0       1.0      1.0       1.0  ...      1.0      0.0       1.0       0.0\n",
              "\n",
              "[5 rows x 30 columns]"
            ]
          },
          "metadata": {},
          "execution_count": 200
        }
      ]
    },
    {
      "cell_type": "code",
      "metadata": {
        "colab": {
          "base_uri": "https://localhost:8080/"
        },
        "id": "jdS6uxzQYj4k",
        "outputId": "e2f03abd-cb95-40a8-946c-9dc37e47d271"
      },
      "source": [
        "df_selected.groupby(['_MICHD']).size()"
      ],
      "execution_count": null,
      "outputs": [
        {
          "output_type": "execute_result",
          "data": {
            "text/plain": [
              "_MICHD\n",
              "0.0    231089\n",
              "1.0     23952\n",
              "dtype: int64"
            ]
          },
          "metadata": {},
          "execution_count": 201
        }
      ]
    },
    {
      "cell_type": "code",
      "metadata": {
        "id": "PnISjiY-Yrgx"
      },
      "source": [
        "brfss = df_selected.rename(columns = {'_MICHD':'HeartDiseaseorAttack', \n",
        "                                         '_RFHYPE5':'HighBP',  \n",
        "                                         'TOLDHI2':'HighChol', '_CHOLCHK':'CholCheck', \n",
        "                                         '_BMI5':'BMI', \n",
        "                                         'SMOKE100':'Smoker', \n",
        "                                         'CVDSTRK3':'Stroke', 'DIABETE3':'Diabetes', \n",
        "                                         '_TOTINDA':'PhysActivity', \n",
        "                                         '_FRTLT1':'Fruits', '_VEGLT1':\"Veggies\", \n",
        "                                         '_RFDRHV5':'HvyAlcoholConsump', \n",
        "                                         'HLTHPLN1':'AnyHealthcare', 'MEDCOST':'NoDocbcCost', \n",
        "                                         'GENHLTH':'GenHlth', 'MENTHLTH':'MentHlth', 'PHYSHLTH':'PhysHlth', 'DIFFWALK':'DiffWalk', \n",
        "                                         'SEX':'Sex', '_AGEG5YR':'Age', 'EDUCA':'Education', 'INCOME2':'Income', \n",
        "                                         'CHECKUP1':'Checkcare', \n",
        "                                         'CVDINFR4':'Myocardialinfarction' ,'CVDCRHD4':'HeartDisease' ,'ADDEPEV2':'Depression', \n",
        "                                         'FVGREEN':'GreenVege', 'FVORANG':'OrangeVege', 'EXERANY2':'Exercise', '_LTASTH1':'Asthma' })"
      ],
      "execution_count": null,
      "outputs": []
    },
    {
      "cell_type": "code",
      "metadata": {
        "id": "knjDuPzd35s6"
      },
      "source": [
        "brfss.to_csv('/content/drive/MyDrive/heart_disease_health_indicators_BRFSS2015(codestates).csv', sep=\",\", index=False)"
      ],
      "execution_count": null,
      "outputs": []
    }
  ]
}